{
 "cells": [
  {
   "cell_type": "markdown",
   "metadata": {},
   "source": [
    "# TOP 5 BOOKS RECOMMENDATION SYSTEM"
   ]
  },
  {
   "cell_type": "markdown",
   "metadata": {},
   "source": [
    "\n",
    "<img src=\"books.jpg\" alt=\"Books\" width=\"700\" height = \"300\"/>"
   ]
  },
  {
   "cell_type": "markdown",
   "metadata": {},
   "source": [
    "| | GROUP MEMBERS | GITHUB | \n",
    "| --- | --- | --- |\n",
    "| 1. | MAUREEN WAMBUGU | - |\n",
    "| 2. | STEPHEN WAWERU | -|\n",
    "| 3. | LYDIA NJERI | - |\n",
    "| 4. | LILIAN MULI | - |\n",
    "| 5. | PETER MAINA | - |"
   ]
  },
  {
   "cell_type": "markdown",
   "metadata": {},
   "source": [
    "## 1. BUSINESS UNDERSTANDING"
   ]
  },
  {
   "cell_type": "markdown",
   "metadata": {},
   "source": [
    "> PROJECT OVERVIEW\n",
    "* **Recommendation systems** are powerful tools that use machine learning algorithms to provide relevant suggestions to users based on behaviour patterns or user data.  \n",
    "* **A Book Recommendation System** is a recommendation system where we recommend similar books to readers based on their interests.\n",
    "* Recommendation systems help drive engagement, increase sales, increases revenue and this in return brings in loyal clients as the customer experience is elevated promoting customer satisfaction.\n",
    "* We have 2 main recommendation system models:  \n",
    "          * 1. Collaborative filtering  \n",
    "          * 2. Content-based Filtering\n",
    "> BUSINESS PROBLEM  \n",
    "* Over the past years, there has been rise in huge ecommerce and online services leading clients facing difficulty when searching for the right products.\n",
    "* Clients looking to purchase books also face the same struggle when trying to match the right books with their taste and preferences.\n",
    "* **The Business Problem** is to develop a recommendation system that recommends books that are tailored to our users preferences inorder to improve customer experience and increase revenue.\n",
    "> PROJECT OBJECTIVE\n",
    "1. To build a book recommendation system that provides personalized suggestions to our users.\n",
    "2. Improve sales by showcasing books a user is most likely to buy.\n",
    "3. Offer relevant books to users inorder to improve customer retention.\n",
    "4. Increase customer engagement\n",
    "> DATA SOURCE   \n",
    "* We used data obtained from [Kaggle](\"https://www.kaggle.com/datasets/somnambwl/bookcrossing-dataset/data\") mined by Cai-Nicolas Ziegler\n",
    "* It contains 3 CSV Files:\n",
    "    1. Books.csv - contains information about books{ISBN;Title;Author;Year;Publisher}\n",
    "    2. Ratings.csv - contains book ratings provided by users  that range from 0 to 10. {{User-ID;ISBN;Rating}}\n",
    "    3. Users.csv - contains information about the users {User-ID;Age}\n",
    "> STAKEHOLDERS\n",
    "1. Customers\n",
    "* As the end user, they expect accurate book suggestions based on personal interests.\n",
    "2. Marketing team\n",
    "* They would want to do targeted advertising on specific books and also promote personalized offers.\n",
    "3. Data scientist\n",
    "* Interested in ensuring the recommendation system models are accurate and scalable.\n",
    "4. Book Authors\n",
    "* They would be interested in knowing how their books are recommended inorder to learn and understand their readers taste and preferences.\n",
    "5. Executive {CEO}\n",
    "* They would want to understand how recommendation systems impact revenue and customer retention comparing it to the budget allocated to the project.\n",
    "> METHODOLOGY\n",
    "* Our project will focus on the CRISP-DM:  \n",
    "    1. Business Understanding\n",
    "    2. Data Understanding\n",
    "    3. Data Preparation\n",
    "    4. Modeling\n",
    "    5. Evaluation\n",
    "    6. Deployment"
   ]
  },
  {
   "cell_type": "markdown",
   "metadata": {},
   "source": []
  }
 ],
 "metadata": {
  "language_info": {
   "name": "python"
  }
 },
 "nbformat": 4,
 "nbformat_minor": 2
}
